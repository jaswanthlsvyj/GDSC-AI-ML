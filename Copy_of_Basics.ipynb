{
  "cells": [
    {
      "cell_type": "markdown",
      "id": "8a7febb8",
      "metadata": {
        "id": "8a7febb8"
      },
      "source": [
        "# 1 python"
      ]
    },
    {
      "cell_type": "markdown",
      "id": "b64b5e56",
      "metadata": {
        "id": "b64b5e56"
      },
      "source": [
        "## 1.1 Variables"
      ]
    },
    {
      "cell_type": "code",
      "execution_count": 19,
      "id": "15934b34",
      "metadata": {
        "colab": {
          "base_uri": "https://localhost:8080/"
        },
        "id": "15934b34",
        "outputId": "7e3aca6a-9964-47b6-dbc6-3e905acb9d9c"
      },
      "outputs": [
        {
          "output_type": "stream",
          "name": "stdout",
          "text": [
            "a+b: 30\n",
            "a-b: 10\n",
            "a*b: 200\n",
            "a/b: 2.0\n"
          ]
        }
      ],
      "source": [
        "a = 20\n",
        "b = 10\n",
        "print(\"a+b:\",a+b)\n",
        "print(\"a-b:\", a-b)\n",
        "print(\"a*b:\",a*b)\n",
        "print(\"a/b:\",a/b)"
      ]
    },
    {
      "cell_type": "markdown",
      "id": "b5d6c636",
      "metadata": {
        "id": "b5d6c636"
      },
      "source": [
        "## 1.2 List"
      ]
    },
    {
      "cell_type": "code",
      "execution_count": 20,
      "id": "27fa2c56",
      "metadata": {
        "colab": {
          "base_uri": "https://localhost:8080/"
        },
        "id": "27fa2c56",
        "outputId": "a18836ba-7917-43e0-883c-390c80bfe88b"
      },
      "outputs": [
        {
          "output_type": "stream",
          "name": "stdout",
          "text": [
            "[1, 2, 3, 4, 5]\n"
          ]
        }
      ],
      "source": [
        "l = [1,2,3,4,5]\n",
        "print(l)"
      ]
    },
    {
      "cell_type": "markdown",
      "id": "bd17ab2a",
      "metadata": {
        "id": "bd17ab2a"
      },
      "source": [
        "## 1.3 Tuples"
      ]
    },
    {
      "cell_type": "code",
      "execution_count": 21,
      "id": "e44a87ce",
      "metadata": {
        "colab": {
          "base_uri": "https://localhost:8080/"
        },
        "id": "e44a87ce",
        "outputId": "2f09e409-ba31-4e41-b2fe-bf7d1264f2b9"
      },
      "outputs": [
        {
          "output_type": "stream",
          "name": "stdout",
          "text": [
            "(1, 2, 3, 4, 5)\n"
          ]
        }
      ],
      "source": [
        "t = (1,2,3,4,5)\n",
        "print(t)"
      ]
    },
    {
      "cell_type": "markdown",
      "id": "798c951b",
      "metadata": {
        "id": "798c951b"
      },
      "source": [
        "## 1.4 Dictionaries"
      ]
    },
    {
      "cell_type": "code",
      "execution_count": 22,
      "id": "f135d0c5",
      "metadata": {
        "colab": {
          "base_uri": "https://localhost:8080/"
        },
        "id": "f135d0c5",
        "outputId": "a885dbdc-0475-4019-a9f1-fb4e91c0aa7e"
      },
      "outputs": [
        {
          "output_type": "execute_result",
          "data": {
            "text/plain": [
              "{'a': 1, 'b': 2, 'c': 3}"
            ]
          },
          "metadata": {},
          "execution_count": 22
        }
      ],
      "source": [
        "d = {\"a\":1,\"b\":2,'c':3}\n",
        "d"
      ]
    },
    {
      "cell_type": "code",
      "execution_count": 22,
      "id": "961795a8",
      "metadata": {
        "id": "961795a8"
      },
      "outputs": [],
      "source": []
    },
    {
      "cell_type": "markdown",
      "id": "475b0d1d",
      "metadata": {
        "id": "475b0d1d"
      },
      "source": [
        "# 2 NumPy"
      ]
    },
    {
      "cell_type": "code",
      "execution_count": 23,
      "id": "6548bb71",
      "metadata": {
        "colab": {
          "base_uri": "https://localhost:8080/"
        },
        "id": "6548bb71",
        "outputId": "00851e30-618f-4eb4-fd24-6f0def162849"
      },
      "outputs": [
        {
          "output_type": "stream",
          "name": "stdout",
          "text": [
            "[1 2 3 4 5]\n"
          ]
        }
      ],
      "source": [
        "import numpy as np\n",
        "\n",
        "arr = np.array([1,2,3,4,5])\n",
        "print(arr)"
      ]
    },
    {
      "cell_type": "code",
      "source": [
        "type(arr)"
      ],
      "metadata": {
        "id": "jqN5p3L_C6mn",
        "outputId": "77a78333-938b-4596-ee6a-f586037d5fcd",
        "colab": {
          "base_uri": "https://localhost:8080/"
        }
      },
      "id": "jqN5p3L_C6mn",
      "execution_count": 24,
      "outputs": [
        {
          "output_type": "execute_result",
          "data": {
            "text/plain": [
              "numpy.ndarray"
            ]
          },
          "metadata": {},
          "execution_count": 24
        }
      ]
    },
    {
      "cell_type": "code",
      "execution_count": 25,
      "id": "ece801d1",
      "metadata": {
        "colab": {
          "base_uri": "https://localhost:8080/"
        },
        "id": "ece801d1",
        "outputId": "9d73738c-3132-42e9-be8f-50bb6a0f1a70"
      },
      "outputs": [
        {
          "output_type": "stream",
          "name": "stdout",
          "text": [
            "The elements in x are of type: int64\n",
            "x has dimensions: (5,)\n",
            "size of array: 5\n"
          ]
        }
      ],
      "source": [
        "print('The elements in x are of type:', arr.dtype)\n",
        "print('x has dimensions:', arr.shape)\n",
        "print('size of array:', arr.size)"
      ]
    },
    {
      "cell_type": "code",
      "execution_count": 26,
      "id": "bcb8e944",
      "metadata": {
        "id": "bcb8e944",
        "outputId": "e0ae8560-4f32-409f-e339-e6527ca34b19",
        "colab": {
          "base_uri": "https://localhost:8080/"
        }
      },
      "outputs": [
        {
          "output_type": "execute_result",
          "data": {
            "text/plain": [
              "array([30, 32, 34, 36, 38, 40])"
            ]
          },
          "metadata": {},
          "execution_count": 26
        }
      ],
      "source": [
        "arr1 = np.array([10, 11, 12, 13, 14, 15])\n",
        "arr2 = np.array([20, 21, 22, 23, 24, 25])\n",
        "\n",
        "newarr = np.add(arr1, arr2)\n",
        "newarr"
      ]
    },
    {
      "cell_type": "code",
      "source": [
        "arr = np.array([1, 2, 3, 4])\n",
        "\n",
        "x = np.prod(arr)\n"
      ],
      "metadata": {
        "id": "zDk0kw5BEY2g"
      },
      "id": "zDk0kw5BEY2g",
      "execution_count": 27,
      "outputs": []
    },
    {
      "cell_type": "code",
      "source": [
        "arr.mean()"
      ],
      "metadata": {
        "id": "Uk4evsYMbl09",
        "outputId": "1a8c132f-4c87-4977-a809-b3c16f7585e2",
        "colab": {
          "base_uri": "https://localhost:8080/"
        }
      },
      "id": "Uk4evsYMbl09",
      "execution_count": 28,
      "outputs": [
        {
          "output_type": "execute_result",
          "data": {
            "text/plain": [
              "2.5"
            ]
          },
          "metadata": {},
          "execution_count": 28
        }
      ]
    },
    {
      "cell_type": "markdown",
      "id": "886ae448",
      "metadata": {
        "id": "886ae448"
      },
      "source": [
        "# 3 Pandas"
      ]
    },
    {
      "cell_type": "code",
      "execution_count": 29,
      "id": "5fdb0d7e",
      "metadata": {
        "id": "5fdb0d7e"
      },
      "outputs": [],
      "source": [
        "import pandas as pd "
      ]
    },
    {
      "cell_type": "markdown",
      "id": "b7d5abc2",
      "metadata": {
        "id": "b7d5abc2"
      },
      "source": [
        "### 3.1 Series"
      ]
    },
    {
      "cell_type": "code",
      "execution_count": 30,
      "id": "217ce960",
      "metadata": {
        "colab": {
          "base_uri": "https://localhost:8080/"
        },
        "id": "217ce960",
        "outputId": "5b430e8f-57ed-4ae5-d7f5-e85a0f2f788c"
      },
      "outputs": [
        {
          "output_type": "stream",
          "name": "stdout",
          "text": [
            "0    1\n",
            "1    2\n",
            "2    3\n",
            "3    4\n",
            "4    5\n",
            "dtype: int64\n"
          ]
        }
      ],
      "source": [
        "s = pd.Series([1,2,3,4,5])\n",
        "print(s)"
      ]
    },
    {
      "cell_type": "code",
      "execution_count": 31,
      "id": "4831e877",
      "metadata": {
        "colab": {
          "base_uri": "https://localhost:8080/"
        },
        "id": "4831e877",
        "outputId": "111442ef-79da-4aea-c960-adedd61be41a"
      },
      "outputs": [
        {
          "output_type": "stream",
          "name": "stdout",
          "text": [
            "s.dtype : int64\n",
            "s.size : 5\n",
            "s.shape : (5,)\n"
          ]
        }
      ],
      "source": [
        "#returns dtype objects of the underlying data\n",
        "print('s.dtype :',s.dtype)\n",
        "\n",
        "# returns the size of the series \n",
        "print(\"s.size :\",s.size)\n",
        "\n",
        "#return tuple of the shape of underlying data\n",
        "print('s.shape :',s.shape) "
      ]
    },
    {
      "cell_type": "markdown",
      "id": "1a3602de",
      "metadata": {
        "id": "1a3602de"
      },
      "source": [
        "## 3.2 DataFrame"
      ]
    },
    {
      "cell_type": "code",
      "execution_count": 32,
      "id": "89ccfd2d",
      "metadata": {
        "colab": {
          "base_uri": "https://localhost:8080/"
        },
        "id": "89ccfd2d",
        "outputId": "233771cd-3571-410b-9a34-a6ba51c6ef0f"
      },
      "outputs": [
        {
          "output_type": "stream",
          "name": "stdout",
          "text": [
            "     Name  English  Economics  IP  Accouncts\n",
            "0   Rinku       67         78  98         77\n",
            "1    Ritu       65         59  97         70\n",
            "2    Ajay       98         98  95         80\n",
            "3  Pankaj       45         65  96         57\n"
          ]
        }
      ],
      "source": [
        "# Dictioanry of list\n",
        "stu = {'Name':['Rinku','Ritu','Ajay','Pankaj'],\n",
        "       'English':[67,65,98,45],\n",
        "       'Economics':[78,59,98,65],\n",
        "       'IP':[98,97,95,96],\n",
        "       'Accouncts':[77,70,80,57]}\n",
        "\n",
        "df = pd.DataFrame(stu)\n",
        "print(df)"
      ]
    },
    {
      "cell_type": "code",
      "execution_count": 33,
      "id": "f6302b2a",
      "metadata": {
        "colab": {
          "base_uri": "https://localhost:8080/"
        },
        "id": "f6302b2a",
        "outputId": "ce723ab7-30c0-4dd0-848b-36a23f7d34d7"
      },
      "outputs": [
        {
          "output_type": "stream",
          "name": "stdout",
          "text": [
            "\n",
            " df.dtypes : Name         object\n",
            "English       int64\n",
            "Economics     int64\n",
            "IP            int64\n",
            "Accouncts     int64\n",
            "dtype: object\n",
            "\n",
            " df.size : 20\n",
            "\n",
            " df.shape : (4, 5)\n"
          ]
        }
      ],
      "source": [
        "# dtypes : fetch the datatype values of the items in the dataframe\n",
        "print('\\n df.dtypes :',df.dtypes)\n",
        "\n",
        "# size : fetch the size of the dataframe\n",
        "print( '\\n df.size :',df.size)\n",
        "\n",
        "#shape : fetch the no.of rows and no.of columns\n",
        "print('\\n df.shape :',df.shape)"
      ]
    },
    {
      "cell_type": "code",
      "source": [
        "df1 = pd.DataFrame(\n",
        "    {\n",
        "        \"A\": [\"A0\", \"A1\", \"A2\", \"A3\"],\n",
        "        \"B\": [\"B0\", \"B1\", \"B2\", \"B3\"],\n",
        "        \"C\": [\"C0\", \"C1\", \"C2\", \"C3\"],\n",
        "        \"D\": [\"D0\", \"D1\", \"D2\", \"D3\"],\n",
        "    },\n",
        "    index=[0, 1, 2, 3],\n",
        ")\n",
        "\n",
        "\n",
        "df2 = pd.DataFrame(\n",
        "    {\n",
        "        \"A\": [\"A4\", \"A5\", \"A6\", \"A7\"],\n",
        "        \"B\": [\"B4\", \"B5\", \"B6\", \"B7\"],\n",
        "        \"C\": [\"C4\", \"C5\", \"C6\", \"C7\"],\n",
        "        \"D\": [\"D4\", \"D5\", \"D6\", \"D7\"],\n",
        "    },\n",
        "    index=[4, 5, 6, 7],\n",
        ")\n",
        "\n",
        "\n",
        "df3 = pd.DataFrame(\n",
        "    {\n",
        "        \"A\": [\"A8\", \"A9\", \"A10\", \"A11\"],\n",
        "        \"B\": [\"B8\", \"B9\", \"B10\", \"B11\"],\n",
        "        \"C\": [\"C8\", \"C9\", \"C10\", \"C11\"],\n",
        "        \"D\": [\"D8\", \"D9\", \"D10\", \"D11\"],\n",
        "    },\n",
        "    index=[8, 9, 10, 11],\n",
        ")\n",
        "\n",
        "\n",
        "frames = [df1, df2, df3]\n",
        "\n",
        "result = pd.concat(frames)"
      ],
      "metadata": {
        "id": "fPtD5WC6LoMZ"
      },
      "id": "fPtD5WC6LoMZ",
      "execution_count": 38,
      "outputs": []
    },
    {
      "cell_type": "markdown",
      "source": [
        "## 3.3 Importing Dataset"
      ],
      "metadata": {
        "id": "G4Vu9tzwgQpE"
      },
      "id": "G4Vu9tzwgQpE"
    },
    {
      "cell_type": "code",
      "execution_count": 45,
      "id": "22532499",
      "metadata": {
        "scrolled": true,
        "id": "22532499",
        "outputId": "1705c064-f264-4568-defc-5062214f1205",
        "colab": {
          "base_uri": "https://localhost:8080/"
        }
      },
      "outputs": [
        {
          "output_type": "stream",
          "name": "stdout",
          "text": [
            "    <!DOCTYPE html><html><head><meta name=\"google\" content=\"notranslate\"><meta http-equiv=\"X-UA-Compatible\" content=\"IE=edge;\"><style nonce=\"-uq8GZy-gR124jqiH95z6Q\">@font-face{font-family:'Roboto';font-style:italic;font-weight:400;src:url(//fonts.gstatic.com/s/roboto/v18/KFOkCnqEu92Fr1Mu51xIIzc.ttf)format('truetype');}@font-face{font-family:'Roboto';font-style:normal;font-weight:300;src:url(//fonts.gstatic.com/s/roboto/v18/KFOlCnqEu92Fr1MmSU5fBBc9.ttf)format('truetype');}@font-face{font-family:'Roboto';font-style:normal;font-weight:400;src:url(//fonts.gstatic.com/s/roboto/v18/KFOmCnqEu92Fr1Mu4mxP.ttf)format('truetype');}@font-face{font-family:'Roboto';font-style:normal;font-weight:500;src:url(//fonts.gstatic.com/s/roboto/v18/KFOlCnqEu92Fr1MmEU9fBBc9.ttf)format('truetype');}@font-face{font-family:'Roboto';font-style:normal;font-weight:700;src:url(//fonts.gstatic.com/s/roboto/v18/KFOlCnqEu92Fr1MmWUlfBBc9.ttf)format('truetype');}</style><meta name=\"referrer\" content=\"origin\"><title>data.csv - Google Drive</title><meta property=\"og:title\" content=\"data.csv\"><meta property=\"og:type\" content=\"article\"><meta property=\"og:site_name\" content=\"Google Docs\"><meta property=\"og:url\" content=\"https://drive.google.com/file/d/1Kduoox8FnqtAUJwpaDOM4w_XMgqAcozg/view?usp=sharing&amp;usp=embed_facebook\"><link rel=\"shortcut icon\" href=\"https://ssl.gstatic.com/images/branding/product/1x/drive_2020q4_32dp.png\"><link rel=\"stylesheet\" href=\"https://fonts.googleapis.com/css?family=Google+Sans:300  \\\n",
            "0                                                 try{                                                                                                                                                                                                                                                                                                                                                                                                                                                                                                                                                                                                                                                                                                                                                                                                                                                                                                                                                                                                                                                                                                                                                                                                                                                                                                                                                                                                                                                                                                    \n",
            "1                                                   /*                                                                                                                                                                                                                                                                                                                                                                                                                                                                                                                                                                                                                                                                                                                                                                                                                                                                                                                                                                                                                                                                                                                                                                                                                                                                                                                                                                                                                                                                                                    \n",
            "2               Copyright The Closure Library Authors.                                                                                                                                                                                                                                                                                                                                                                                                                                                                                                                                                                                                                                                                                                                                                                                                                                                                                                                                                                                                                                                                                                                                                                                                                                                                                                                                                                                                                                                                                                    \n",
            "3                  SPDX-License-Identifier: Apache-2.0                                                                                                                                                                                                                                                                                                                                                                                                                                                                                                                                                                                                                                                                                                                                                                                                                                                                                                                                                                                                                                                                                                                                                                                                                                                                                                                                                                                                                                                                                                    \n",
            "4                                                   */                                                                                                                                                                                                                                                                                                                                                                                                                                                                                                                                                                                                                                                                                                                                                                                                                                                                                                                                                                                                                                                                                                                                                                                                                                                                                                                                                                                                                                                                                                    \n",
            "..                                                 ...                                                                                                                                                                                                                                                                                                                                                                                                                                                                                                                                                                                                                                                                                                                                                                                                                                                                                                                                                                                                                                                                                                                                                                                                                                                                                                                                                                                                                                                                                                    \n",
            "167                  (function(){var a=_.he();if(_.E(a                                                                                                                                                                                                                                                                                                                                                                                                                                                                                                                                                                                                                                                                                                                                                                                                                                                                                                                                                                                                                                                                                                                                                                                                                                                                                                                                                                                                                                                                                                    \n",
            "168                     }catch(e){_._DumpException(e)}                                                                                                                                                                                                                                                                                                                                                                                                                                                                                                                                                                                                                                                                                                                                                                                                                                                                                                                                                                                                                                                                                                                                                                                                                                                                                                                                                                                                                                                                                                    \n",
            "169                                    })(this.gbar_);                                                                                                                                                                                                                                                                                                                                                                                                                                                                                                                                                                                                                                                                                                                                                                                                                                                                                                                                                                                                                                                                                                                                                                                                                                                                                                                                                                                                                                                                                                    \n",
            "170                                     // Google Inc.                                                                                                                                                                                                                                                                                                                                                                                                                                                                                                                                                                                                                                                                                                                                                                                                                                                                                                                                                                                                                                                                                                                                                                                                                                                                                                                                                                                                                                                                                                    \n",
            "171  </script><script id=\"base-js\" async type=\"text...                                                                                                                                                                                                                                                                                                                                                                                                                                                                                                                                                                                                                                                                                                                                                                                                                                                                                                                                                                                                                                                                                                                                                                                                                                                                                                                                                                                                                                                                                                    \n",
            "\n",
            "                                                   400  \\\n",
            "0                                                  NaN   \n",
            "1                                                  NaN   \n",
            "2                                                  NaN   \n",
            "3                                                  NaN   \n",
            "4                                                  NaN   \n",
            "..                                                 ...   \n",
            "167                          18))ck();else{var b=_.D(a   \n",
            "168                                                NaN   \n",
            "169                                                NaN   \n",
            "170                                                NaN   \n",
            "171  wb\" nonce=\"_MqdmEUg1eJjgHtuMY9eig\"></script></...   \n",
            "\n",
            "                                       500  \\\n",
            "0                                      NaN   \n",
            "1                                      NaN   \n",
            "2                                      NaN   \n",
            "3                                      NaN   \n",
            "4                                      NaN   \n",
            "..                                     ...   \n",
            "167  19)||0;window.addEventListener(\"load\"   \n",
            "168                                    NaN   \n",
            "169                                    NaN   \n",
            "170                                    NaN   \n",
            "171                                    NaN   \n",
            "\n",
            "    700\" nonce=\"-uq8GZy-gR124jqiH95z6Q\"><link rel=\"stylesheet\" href=\"https://www.gstatic.com/_/apps-fileview/_/ss/k=apps-fileview.v.YyQVHts-zCk.L.X.O/am=AAg/d=0/rs=AO0039signX9Qz_v7_tRuCjnYTBPuVSchQ\" nonce=\"-uq8GZy-gR124jqiH95z6Q\"><script nonce=\"_MqdmEUg1eJjgHtuMY9eig\">_docs_flag_initialData={\"docs-ails\":\"docs_cold\"  \\\n",
            "0                                                  NaN                                                                                                                                                                                                                                                                          \n",
            "1                                                  NaN                                                                                                                                                                                                                                                                          \n",
            "2                                                  NaN                                                                                                                                                                                                                                                                          \n",
            "3                                                  NaN                                                                                                                                                                                                                                                                          \n",
            "4                                                  NaN                                                                                                                                                                                                                                                                          \n",
            "..                                                 ...                                                                                                                                                                                                                                                                          \n",
            "167                    function(){window.setTimeout(ck                                                                                                                                                                                                                                                                          \n",
            "168                                                NaN                                                                                                                                                                                                                                                                          \n",
            "169                                                NaN                                                                                                                                                                                                                                                                          \n",
            "170                                                NaN                                                                                                                                                                                                                                                                          \n",
            "171                                                NaN                                                                                                                                                                                                                                                                          \n",
            "\n",
            "    docs-fwds:\"docs_sdf\" docs-crs:\"docs_crs_nfd\" docs-l2t:0 docs-shdn:0  \\\n",
            "0                    NaN                     NaN        NaN         NaN   \n",
            "1                    NaN                     NaN        NaN         NaN   \n",
            "2                    NaN                     NaN        NaN         NaN   \n",
            "3                    NaN                     NaN        NaN         NaN   \n",
            "4                    NaN                     NaN        NaN         NaN   \n",
            "..                   ...                     ...        ...         ...   \n",
            "167           b)})}})();                     NaN        NaN         NaN   \n",
            "168                  NaN                     NaN        NaN         NaN   \n",
            "169                  NaN                     NaN        NaN         NaN   \n",
            "170                  NaN                     NaN        NaN         NaN   \n",
            "171                  NaN                     NaN        NaN         NaN   \n",
            "\n",
            "    docs-tfh:\"\" info_params:{}  ... 2.3 5.2  rw 206 0].7 [[null.2 null.199  \\\n",
            "0           NaN            NaN  ... NaN NaN NaN NaN  NaN      NaN      NaN   \n",
            "1           NaN            NaN  ... NaN NaN NaN NaN  NaN      NaN      NaN   \n",
            "2           NaN            NaN  ... NaN NaN NaN NaN  NaN      NaN      NaN   \n",
            "3           NaN            NaN  ... NaN NaN NaN NaN  NaN      NaN      NaN   \n",
            "4           NaN            NaN  ... NaN NaN NaN NaN  NaN      NaN      NaN   \n",
            "..          ...            ...  ...  ..  ..  ..  ..  ...      ...      ...   \n",
            "167         NaN            NaN  ... NaN NaN NaN NaN  NaN      NaN      NaN   \n",
            "168         NaN            NaN  ... NaN NaN NaN NaN  NaN      NaN      NaN   \n",
            "169         NaN            NaN  ... NaN NaN NaN NaN  NaN      NaN      NaN   \n",
            "170         NaN            NaN  ... NaN NaN NaN NaN  NaN      NaN      NaN   \n",
            "171         NaN            NaN  ... NaN NaN NaN NaN  NaN      NaN      NaN   \n",
            "\n",
            "    null.200  \\\n",
            "0        NaN   \n",
            "1        NaN   \n",
            "2        NaN   \n",
            "3        NaN   \n",
            "4        NaN   \n",
            "..       ...   \n",
            "167      NaN   \n",
            "168      NaN   \n",
            "169      NaN   \n",
            "170      NaN   \n",
            "171      NaN   \n",
            "\n",
            "    https://www.gstatic.com/og/_/js/k=og.qtm.en_US.hj89-rW3G9Y.O/rt=j/m=qabr,q_dnp,qapid/exm=qaaw,qadd,qaid,qein,qhaw,qhbr,qhch,qhga,qhid,qhin,qhpr/d=1/ed=1/rs=AA2YrTuy-g1QunQbD3MW84FOnc-xAfoKVw]]]]  \\\n",
            "0                                                  NaN                                                                                                                                                   \n",
            "1                                                  NaN                                                                                                                                                   \n",
            "2                                                  NaN                                                                                                                                                   \n",
            "3                                                  NaN                                                                                                                                                   \n",
            "4                                                  NaN                                                                                                                                                   \n",
            "..                                                 ...                                                                                                                                                   \n",
            "167                                                NaN                                                                                                                                                   \n",
            "168                                                NaN                                                                                                                                                   \n",
            "169                                                NaN                                                                                                                                                   \n",
            "170                                                NaN                                                                                                                                                   \n",
            "171                                                NaN                                                                                                                                                   \n",
            "\n",
            "    };this.gbar_=this.gbar_||{};(function(_){var window=this;  \n",
            "0                                                  NaN         \n",
            "1                                                  NaN         \n",
            "2                                                  NaN         \n",
            "3                                                  NaN         \n",
            "4                                                  NaN         \n",
            "..                                                 ...         \n",
            "167                                                NaN         \n",
            "168                                                NaN         \n",
            "169                                                NaN         \n",
            "170                                                NaN         \n",
            "171                                                NaN         \n",
            "\n",
            "[172 rows x 783 columns]\n",
            "\n",
            "df.shape (172, 783)\n"
          ]
        }
      ],
      "source": [
        "# select the proper path of your file\n",
        "data = pd.read_csv(\"./data.csv\")\n",
        "print(data)\n",
        "print(\"\\ndf.shape\",data.shape)"
      ]
    },
    {
      "cell_type": "code",
      "execution_count": 39,
      "id": "80898c96",
      "metadata": {
        "id": "80898c96"
      },
      "outputs": [],
      "source": []
    },
    {
      "cell_type": "markdown",
      "id": "25db1d13",
      "metadata": {
        "id": "25db1d13"
      },
      "source": [
        "# 4 Matplotlib"
      ]
    },
    {
      "cell_type": "code",
      "execution_count": 40,
      "id": "b7655295",
      "metadata": {
        "id": "b7655295"
      },
      "outputs": [],
      "source": [
        "import matplotlib.pyplot as plt"
      ]
    },
    {
      "cell_type": "markdown",
      "id": "9d046a65",
      "metadata": {
        "id": "9d046a65"
      },
      "source": [
        "## 4.1 Pie plot/chart"
      ]
    },
    {
      "cell_type": "code",
      "execution_count": 41,
      "id": "c69656a7",
      "metadata": {
        "id": "c69656a7",
        "outputId": "53d799fa-c6ba-4547-892c-da4d9e7061c0",
        "colab": {
          "base_uri": "https://localhost:8080/",
          "height": 248
        }
      },
      "outputs": [
        {
          "output_type": "display_data",
          "data": {
            "text/plain": [
              "<Figure size 432x288 with 1 Axes>"
            ],
            "image/png": "[encoded data removed]"
          },
          "metadata": {}
        }
      ],
      "source": [
        "labels= data['Car'].loc[1:5]\n",
        "co2 = data['CO2'].loc[1:5]\n",
        "colors = ['g','m','b','r','y']\n",
        "explode = (0.1,0,0,0,0) # explode 1st slice\n",
        "\n",
        "plt.pie(co2,labels= labels ,colors=colors, explode = explode, shadow=True)\n",
        "plt.show()"
      ]
    },
    {
      "cell_type": "markdown",
      "id": "b1fa8734",
      "metadata": {
        "id": "b1fa8734"
      },
      "source": [
        "## 4.2 Bar chart"
      ]
    },
    {
      "cell_type": "code",
      "execution_count": 42,
      "id": "98de1c18",
      "metadata": {
        "id": "98de1c18",
        "outputId": "db5eb981-f7b1-4285-ac30-fc355466facf",
        "colab": {
          "base_uri": "https://localhost:8080/",
          "height": 265
        }
      },
      "outputs": [
        {
          "output_type": "display_data",
          "data": {
            "text/plain": [
              "<Figure size 432x288 with 1 Axes>"
            ],
            "image/png": "[encoded data removed]"
          },
          "metadata": {
            "needs_background": "light"
          }
        }
      ],
      "source": [
        "y = data['Volume']\n",
        "x = range(36)\n",
        "plt.bar(x, y)\n",
        "plt.ylabel('Volume')\n",
        "plt.show()"
      ]
    },
    {
      "cell_type": "code",
      "execution_count": null,
      "id": "6fc4603d",
      "metadata": {
        "id": "6fc4603d"
      },
      "outputs": [],
      "source": []
    },
    {
      "cell_type": "markdown",
      "id": "256b9a22",
      "metadata": {
        "id": "256b9a22"
      },
      "source": [
        "# 5 Seaborn"
      ]
    },
    {
      "cell_type": "code",
      "execution_count": 15,
      "id": "39099065",
      "metadata": {
        "id": "39099065"
      },
      "outputs": [],
      "source": [
        "import seaborn as sns"
      ]
    },
    {
      "cell_type": "markdown",
      "id": "aa39fffa",
      "metadata": {
        "id": "aa39fffa"
      },
      "source": [
        "## 5.1 Univariate - Displot"
      ]
    },
    {
      "cell_type": "code",
      "execution_count": 16,
      "id": "d9b59010",
      "metadata": {
        "id": "d9b59010",
        "outputId": "ca0fc661-28b1-456d-de87-88d6eeac2885",
        "colab": {
          "base_uri": "https://localhost:8080/",
          "height": 187
        }
      },
      "outputs": [
        {
          "output_type": "error",
          "ename": "NameError",
          "evalue": "ignored",
          "traceback": [
            "\u001b[0;31m---------------------------------------------------------------------------\u001b[0m",
            "\u001b[0;31mNameError\u001b[0m                                 Traceback (most recent call last)",
            "\u001b[0;32m<ipython-input-16-4f6e839b9b5d>\u001b[0m in \u001b[0;36m<module>\u001b[0;34m\u001b[0m\n\u001b[0;32m----> 1\u001b[0;31m \u001b[0msns\u001b[0m\u001b[0;34m.\u001b[0m\u001b[0mdisplot\u001b[0m\u001b[0;34m(\u001b[0m\u001b[0mdata\u001b[0m\u001b[0;34m[\u001b[0m\u001b[0;34m\"CO2\"\u001b[0m\u001b[0;34m]\u001b[0m\u001b[0;34m,\u001b[0m \u001b[0mkde\u001b[0m \u001b[0;34m=\u001b[0m \u001b[0;32mTrue\u001b[0m\u001b[0;34m)\u001b[0m\u001b[0;34m\u001b[0m\u001b[0;34m\u001b[0m\u001b[0m\n\u001b[0m\u001b[1;32m      2\u001b[0m \u001b[0mplt\u001b[0m\u001b[0;34m.\u001b[0m\u001b[0mshow\u001b[0m\u001b[0;34m(\u001b[0m\u001b[0;34m)\u001b[0m\u001b[0;34m\u001b[0m\u001b[0;34m\u001b[0m\u001b[0m\n",
            "\u001b[0;31mNameError\u001b[0m: name 'data' is not defined"
          ]
        }
      ],
      "source": [
        "sns.displot(data[\"CO2\"], kde = True)\n",
        "plt.show()\n"
      ]
    },
    {
      "cell_type": "markdown",
      "id": "010f5825",
      "metadata": {
        "id": "010f5825"
      },
      "source": [
        "## 5.2 Bivarite - jointplot"
      ]
    },
    {
      "cell_type": "code",
      "execution_count": 2,
      "id": "e24c89f2",
      "metadata": {
        "id": "e24c89f2",
        "outputId": "600a678a-dd8e-4355-bd94-5e3b3ff1beec",
        "colab": {
          "base_uri": "https://localhost:8080/",
          "height": 187
        }
      },
      "outputs": [
        {
          "output_type": "error",
          "ename": "NameError",
          "evalue": "ignored",
          "traceback": [
            "\u001b[0;31m---------------------------------------------------------------------------\u001b[0m",
            "\u001b[0;31mNameError\u001b[0m                                 Traceback (most recent call last)",
            "\u001b[0;32m<ipython-input-2-6a03b9c7f240>\u001b[0m in \u001b[0;36m<module>\u001b[0;34m\u001b[0m\n\u001b[0;32m----> 1\u001b[0;31m \u001b[0msns\u001b[0m\u001b[0;34m.\u001b[0m\u001b[0mjointplot\u001b[0m\u001b[0;34m(\u001b[0m\u001b[0mx\u001b[0m\u001b[0;34m=\u001b[0m\u001b[0;34m'Volume'\u001b[0m \u001b[0;34m,\u001b[0m \u001b[0my\u001b[0m\u001b[0;34m=\u001b[0m\u001b[0;34m'Weight'\u001b[0m\u001b[0;34m,\u001b[0m \u001b[0mdata\u001b[0m \u001b[0;34m=\u001b[0m \u001b[0mdata\u001b[0m\u001b[0;34m)\u001b[0m\u001b[0;34m\u001b[0m\u001b[0;34m\u001b[0m\u001b[0m\n\u001b[0m\u001b[1;32m      2\u001b[0m \u001b[0mplt\u001b[0m\u001b[0;34m.\u001b[0m\u001b[0mshow\u001b[0m\u001b[0;34m(\u001b[0m\u001b[0;34m)\u001b[0m\u001b[0;34m\u001b[0m\u001b[0;34m\u001b[0m\u001b[0m\n",
            "\u001b[0;31mNameError\u001b[0m: name 'sns' is not defined"
          ]
        }
      ],
      "source": [
        "sns.jointplot(x='Volume' , y='Weight', data = data)\n",
        "plt.show()"
      ]
    },
    {
      "cell_type": "code",
      "execution_count": null,
      "id": "aabe9dc3",
      "metadata": {
        "id": "aabe9dc3"
      },
      "outputs": [],
      "source": []
    }
  ],
  "metadata": {
    "kernelspec": {
      "display_name": "Python 3 (ipykernel)",
      "language": "python",
      "name": "python3"
    },
    "language_info": {
      "codemirror_mode": {
        "name": "ipython",
        "version": 3
      },
      "file_extension": ".py",
      "mimetype": "text/x-python",
      "name": "python",
      "nbconvert_exporter": "python",
      "pygments_lexer": "ipython3",
      "version": "3.10.6"
    },
    "colab": {
      "provenance": [],
      "collapsed_sections": []
    }
  },
  "nbformat": 4,
  "nbformat_minor": 5
}